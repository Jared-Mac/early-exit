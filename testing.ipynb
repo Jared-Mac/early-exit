{
 "cells": [
  {
   "cell_type": "code",
   "execution_count": 2,
   "metadata": {},
   "outputs": [
    {
     "name": "stdout",
     "output_type": "stream",
     "text": [
      "Train set size: 37415\n",
      "Validation set size: 8017\n",
      "Test set size: 8019\n",
      "Batch shape: torch.Size([32, 3, 224, 224])\n",
      "Labels shape: torch.Size([32])\n",
      "Unique labels: tensor([0, 1, 2])\n",
      "Label distribution:\n",
      "Label 0: 3 samples\n",
      "Label 1: 21 samples\n",
      "Label 2: 8 samples\n",
      "\n",
      "Checking for data leakage:\n",
      "Overlap between train and val: 3\n",
      "Overlap between train and test: 3\n",
      "Overlap between val and test: 3\n"
     ]
    }
   ],
   "source": [
    "import torch\n",
    "from adapt.dataset import Flame2DataModule\n",
    "from torchvision import transforms\n",
    "\n",
    "# Define the transform\n",
    "transform = transforms.Compose([\n",
    "    transforms.Resize((224, 224)),  # Resize images to a standard size\n",
    "    transforms.ToTensor(),\n",
    "    transforms.Normalize(mean=[0.485, 0.456, 0.406], std=[0.229, 0.224, 0.225])  # Normalize for pretrained models\n",
    "])\n",
    "\n",
    "# Initialize the Flame2DataModule\n",
    "flame2_dm = Flame2DataModule(image_dir='data/Flame2/RGB', \n",
    "                             batch_size=32, \n",
    "                             transform=transform)\n",
    "\n",
    "# Setup the data module\n",
    "flame2_dm.setup()\n",
    "\n",
    "# Get the dataloaders\n",
    "train_loader = flame2_dm.train_dataloader()\n",
    "val_loader = flame2_dm.val_dataloader()\n",
    "test_loader = flame2_dm.test_dataloader()\n",
    "\n",
    "# Print dataset sizes\n",
    "print(f\"Train set size: {len(train_loader.dataset)}\")\n",
    "print(f\"Validation set size: {len(val_loader.dataset)}\")\n",
    "print(f\"Test set size: {len(test_loader.dataset)}\")\n",
    "\n",
    "# Check a batch from the train loader\n",
    "images, labels = next(iter(train_loader))\n",
    "print(f\"Batch shape: {images.shape}\")\n",
    "print(f\"Labels shape: {labels.shape}\")\n",
    "print(f\"Unique labels: {torch.unique(labels)}\")\n",
    "\n",
    "# Verify label distribution\n",
    "label_counts = torch.bincount(labels)\n",
    "print(\"Label distribution:\")\n",
    "for label, count in enumerate(label_counts):\n",
    "    print(f\"Label {label}: {count.item()} samples\")\n",
    "\n",
    "# Check for data leakage\n",
    "train_labels = torch.cat([labels for _, labels in train_loader])\n",
    "val_labels = torch.cat([labels for _, labels in val_loader])\n",
    "test_labels = torch.cat([labels for _, labels in test_loader])\n",
    "\n",
    "print(\"\\nChecking for data leakage:\")\n",
    "print(f\"Overlap between train and val: {len(set(train_labels.tolist()) & set(val_labels.tolist()))}\")\n",
    "print(f\"Overlap between train and test: {len(set(train_labels.tolist()) & set(test_labels.tolist()))}\")\n",
    "print(f\"Overlap between val and test: {len(set(val_labels.tolist()) & set(test_labels.tolist()))}\")\n"
   ]
  },
  {
   "cell_type": "code",
   "execution_count": null,
   "metadata": {},
   "outputs": [],
   "source": []
  }
 ],
 "metadata": {
  "kernelspec": {
   "display_name": "Python 3 (ipykernel)",
   "language": "python",
   "name": "python3"
  },
  "language_info": {
   "codemirror_mode": {
    "name": "ipython",
    "version": 3
   },
   "file_extension": ".py",
   "mimetype": "text/x-python",
   "name": "python",
   "nbconvert_exporter": "python",
   "pygments_lexer": "ipython3",
   "version": "3.11.0rc1"
  }
 },
 "nbformat": 4,
 "nbformat_minor": 2
}
