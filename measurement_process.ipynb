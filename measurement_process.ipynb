{
 "cells": [
  {
   "cell_type": "code",
   "execution_count": 10,
   "metadata": {},
   "outputs": [],
   "source": [
    "import pandas as pd\n",
    "import matplotlib.pyplot as plt\n",
    "import os\n",
    "import numpy as np"
   ]
  },
  {
   "cell_type": "code",
   "execution_count": 3,
   "metadata": {},
   "outputs": [],
   "source": [
    "data_dir = \"measurement_data/rpi\"\n",
    "model_names = [\"mobilenetv2\", \"resnet18\", \"resnet50\"]"
   ]
  },
  {
   "cell_type": "markdown",
   "metadata": {
    "collapsed": true,
    "jupyter": {
     "outputs_hidden": true
    }
   },
   "source": [
    "# FLOPs"
   ]
  },
  {
   "cell_type": "code",
   "execution_count": 7,
   "metadata": {},
   "outputs": [
    {
     "name": "stdout",
     "output_type": "stream",
     "text": [
      "mobilenetv2:\n",
      "   block1  block2    block3  block4\n",
      "0  1.237M  1.223M  623.296K  1.764M\n",
      "resnet18:\n",
      "     block1    block2    block3    block4\n",
      "0  154.145M  134.915M  134.579M  134.387M\n",
      "resnet50:\n",
      "     block1    block2    block3    block4\n",
      "0  226.182M  339.773M  481.101M  265.081M\n"
     ]
    }
   ],
   "source": [
    "for model in model_names:\n",
    "    df = pd.read_csv(os.path.join(data_dir, \"flops\", f\"{model}.csv\"))\n",
    "    print(f\"{model}:\")\n",
    "    print(df)"
   ]
  },
  {
   "cell_type": "markdown",
   "metadata": {},
   "source": [
    "# Processing Time"
   ]
  },
  {
   "cell_type": "code",
   "execution_count": 16,
   "metadata": {},
   "outputs": [],
   "source": [
    "def remove_outliers_percentile(data, lower_percentile=5, upper_percentile=95):\n",
    "    # set the lower limit and upper limit\n",
    "    lower_limit = np.percentile(data, lower_percentile)\n",
    "    upper_limit = np.percentile(data, upper_percentile)\n",
    "\n",
    "    # filtered_data = [value for value in data if lower_limit <= value <= upper_limit]\n",
    "    abnormal_indices = [i for i, value in enumerate(data) if value < lower_limit or value > upper_limit]\n",
    "\n",
    "    return abnormal_indices"
   ]
  },
  {
   "cell_type": "code",
   "execution_count": 21,
   "metadata": {},
   "outputs": [
    {
     "name": "stdout",
     "output_type": "stream",
     "text": [
      "mobilenetv2:\n",
      "block1     8.451252\n",
      "block2    10.489931\n",
      "block3    10.305638\n",
      "block4    11.895342\n",
      "dtype: float64\n",
      "resnet18:\n",
      "block1    27.374859\n",
      "block2    23.138876\n",
      "block3    22.367039\n",
      "block4    41.036100\n",
      "dtype: float64\n",
      "resnet50:\n",
      "block1     68.595862\n",
      "block2     69.557557\n",
      "block3     97.111840\n",
      "block4    101.479516\n",
      "dtype: float64\n"
     ]
    }
   ],
   "source": [
    "for model in model_names:\n",
    "    df = pd.read_csv(os.path.join(data_dir, \"proc_time\", f\"{model}_50.csv\"))\n",
    "    block1_data = df['block1']\n",
    "    block2_data = df['block2']\n",
    "    block3_data = df['block3']\n",
    "    block4_data = df['block4']\n",
    "    indices1 = remove_outliers_percentile(block1_data)\n",
    "    indices2 = remove_outliers_percentile(block2_data)\n",
    "    indices3 = remove_outliers_percentile(block3_data)\n",
    "    indices4 = remove_outliers_percentile(block4_data)\n",
    "    abnormal_indices = set(indices1) | set(indices2) | set(indices3) | set(indices4)\n",
    "\n",
    "    filtered_df = df.drop(index=abnormal_indices)\n",
    "    means = df.mean()\n",
    "    print(f\"{model}:\")\n",
    "    print(means)"
   ]
  },
  {
   "cell_type": "code",
   "execution_count": null,
   "metadata": {},
   "outputs": [],
   "source": []
  }
 ],
 "metadata": {
  "kernelspec": {
   "display_name": "pytorch",
   "language": "python",
   "name": "pytorch"
  },
  "language_info": {
   "codemirror_mode": {
    "name": "ipython",
    "version": 3
   },
   "file_extension": ".py",
   "mimetype": "text/x-python",
   "name": "python",
   "nbconvert_exporter": "python",
   "pygments_lexer": "ipython3",
   "version": "3.8.19"
  }
 },
 "nbformat": 4,
 "nbformat_minor": 4
}