{
 "cells": [
  {
   "cell_type": "code",
   "execution_count": 1,
   "metadata": {},
   "outputs": [],
   "source": [
    "import pandas as pd\n",
    "import matplotlib.pyplot as plt\n",
    "import os\n",
    "import numpy as np"
   ]
  },
  {
   "cell_type": "code",
   "execution_count": 5,
   "metadata": {},
   "outputs": [],
   "source": [
    "# data_dir = \"/home/coder/early-exit/measurement_data/rpi\"\n",
    "data_dir = \"measurement_data/rpi\"\n",
    "model_names = [\"mobilenetv2\", \"resnet18\", \"resnet50\"]"
   ]
  },
  {
   "cell_type": "code",
   "execution_count": 19,
   "metadata": {},
   "outputs": [],
   "source": [
    "def remove_outliers_percentile_indices(data, lower_percentile=5, upper_percentile=95):\n",
    "    # remove abnormal samples which are beyond the lower limit and upper limit\n",
    "    lower_limit = np.percentile(data, lower_percentile)\n",
    "    upper_limit = np.percentile(data, upper_percentile)\n",
    "\n",
    "    # filtered_data = [value for value in data if lower_limit <= value <= upper_limit]\n",
    "    abnormal_indices = [i for i, value in enumerate(data) if value < lower_limit or value > upper_limit]\n",
    "\n",
    "    return abnormal_indices\n",
    "\n",
    "def remove_outliers_percentile_data(data, lower_percentile=5, upper_percentile=95):\n",
    "    # remove abnormal samples which are beyond the lower limit and upper limit\n",
    "    lower_limit = np.percentile(data, lower_percentile)\n",
    "    upper_limit = np.percentile(data, upper_percentile)\n",
    "\n",
    "    filtered_data = [value for value in data if lower_limit <= value <= upper_limit]\n",
    "\n",
    "    return filtered_data"
   ]
  },
  {
   "cell_type": "markdown",
   "metadata": {
    "collapsed": true,
    "jupyter": {
     "outputs_hidden": true
    }
   },
   "source": [
    "# FLOPs"
   ]
  },
  {
   "cell_type": "code",
   "execution_count": 6,
   "metadata": {},
   "outputs": [
    {
     "name": "stdout",
     "output_type": "stream",
     "text": [
      "mobilenetv2:\n",
      "   block1  block2    block3  block4\n",
      "0  1.237M  1.223M  623.296K  1.764M\n",
      "resnet18:\n",
      "     block1    block2    block3    block4\n",
      "0  154.145M  134.915M  134.579M  134.387M\n",
      "resnet50:\n",
      "     block1    block2    block3    block4\n",
      "0  226.182M  339.773M  481.101M  265.081M\n"
     ]
    }
   ],
   "source": [
    "for model in model_names:\n",
    "    df = pd.read_csv(os.path.join(data_dir, \"flops\", f\"{model}.csv\"))\n",
    "    print(f\"{model}:\")\n",
    "    print(df)"
   ]
  },
  {
   "cell_type": "markdown",
   "metadata": {},
   "source": [
    "# Processing Time"
   ]
  },
  {
   "cell_type": "markdown",
   "metadata": {},
   "source": [
    "## Models"
   ]
  },
  {
   "cell_type": "code",
   "execution_count": 12,
   "metadata": {},
   "outputs": [
    {
     "name": "stdout",
     "output_type": "stream",
     "text": [
      "mobilenetv2:\n",
      "block1     7.653282\n",
      "block2     9.336412\n",
      "block3    12.624931\n",
      "block4    11.492512\n",
      "dtype: float64\n",
      "resnet18:\n",
      "block1    23.104622\n",
      "block2    21.135542\n",
      "block3    21.887453\n",
      "block4    44.296980\n",
      "dtype: float64\n",
      "resnet50:\n",
      "block1     65.567231\n",
      "block2     68.984671\n",
      "block3     85.544496\n",
      "block4    104.341204\n",
      "dtype: float64\n"
     ]
    }
   ],
   "source": [
    "# collect 100 samples for each group and calculate the average\n",
    "# all data in ms\n",
    "for model in model_names:\n",
    "    df = pd.read_csv(os.path.join(data_dir, \"proc_time\", f\"{model}_100.csv\"))\n",
    "    block1_data = df['block1']\n",
    "    block2_data = df['block2']\n",
    "    block3_data = df['block3']\n",
    "    block4_data = df['block4']\n",
    "    indices1 = remove_outliers_percentile_indices(block1_data)\n",
    "    indices2 = remove_outliers_percentile_indices(block2_data)\n",
    "    indices3 = remove_outliers_percentile_indices(block3_data)\n",
    "    indices4 = remove_outliers_percentile_indices(block4_data)\n",
    "    abnormal_indices = set(indices1) | set(indices2) | set(indices3) | set(indices4)\n",
    "\n",
    "    filtered_df = df.drop(index=abnormal_indices)\n",
    "    means = df.mean()\n",
    "    print(f\"{model}:\")\n",
    "    print(means)"
   ]
  },
  {
   "cell_type": "markdown",
   "metadata": {},
   "source": [
    "## DQL"
   ]
  },
  {
   "cell_type": "code",
   "execution_count": 22,
   "metadata": {},
   "outputs": [
    {
     "name": "stdout",
     "output_type": "stream",
     "text": [
      "DQL processing time:\n",
      "16.47187868754069 ms\n"
     ]
    }
   ],
   "source": [
    "df = pd.read_csv(os.path.join(data_dir, \"dql\", \"proc_time.csv\"))\n",
    "data = df['dql_time'].values\n",
    "filtered_data = remove_outliers_percentile_data(data)\n",
    "mean_data = sum(filtered_data) / len(filtered_data)\n",
    "print(f\"DQL processing time:\")\n",
    "print(f\"{mean_data} ms\")"
   ]
  },
  {
   "cell_type": "markdown",
   "metadata": {},
   "source": [
    "# Power Consumption"
   ]
  },
  {
   "cell_type": "markdown",
   "metadata": {},
   "source": [
    "## Model Inference"
   ]
  },
  {
   "cell_type": "code",
   "execution_count": 25,
   "metadata": {},
   "outputs": [
    {
     "name": "stdout",
     "output_type": "stream",
     "text": [
      "-----------\n",
      "idle:\n",
      "Voltage: 5.254138297872339 V\n",
      "Current: 0.32381333333333323 A\n",
      "-----------\n",
      "mobilenetv2:\n",
      "Voltage: 5.2259462365591425 V\n",
      "Current: 0.48686555555555566 A\n",
      "-----------\n",
      "resnet18:\n",
      "Voltage: 5.185109890109889 V\n",
      "Current: 0.6899010989010991 A\n",
      "-----------\n",
      "resnet50:\n",
      "Voltage: 5.170127659574468 V\n",
      "Current: 0.8253744444444445 A\n"
     ]
    }
   ],
   "source": [
    "# models are run every 0.1 second\n",
    "df = pd.read_csv(os.path.join(data_dir, \"VAs_meter\", f\"VAs_idle.csv\"))\n",
    "current = df['Current (A)'].values\n",
    "voltage = df['Voltage (V)'].values\n",
    "current_filtered = remove_outliers_percentile_data(current)\n",
    "voltage_filtered = remove_outliers_percentile_data(voltage)\n",
    "\n",
    "current_mean = sum(current_filtered)/len(current_filtered)\n",
    "voltage_mean = sum(voltage_filtered)/len(voltage_filtered)\n",
    "print(\"-----------\")\n",
    "print(f\"idle:\")\n",
    "print(f\"Voltage: {voltage_mean} V\")\n",
    "print(f\"Current: {current_mean} A\")\n",
    "\n",
    "for model in model_names:\n",
    "    df = pd.read_csv(os.path.join(data_dir, \"VAs_meter\", f\"{model}_10_100.csv\"))\n",
    "    current = df['Current (A)'].values\n",
    "    voltage = df['Voltage (V)'].values\n",
    "    current_filtered = remove_outliers_percentile_data(current)\n",
    "    voltage_filtered = remove_outliers_percentile_data(voltage)\n",
    "\n",
    "    current_mean = sum(current_filtered)/len(current_filtered)\n",
    "    voltage_mean = sum(voltage_filtered)/len(voltage_filtered)\n",
    "    print(\"-----------\")\n",
    "    print(f\"{model}:\")\n",
    "    print(f\"Voltage: {voltage_mean} V\")\n",
    "    print(f\"Current: {current_mean} A\")"
   ]
  },
  {
   "cell_type": "markdown",
   "metadata": {},
   "source": [
    "## Data transmission"
   ]
  },
  {
   "cell_type": "code",
   "execution_count": 26,
   "metadata": {},
   "outputs": [
    {
     "name": "stdout",
     "output_type": "stream",
     "text": [
      "Data transmission power consumption:\n",
      "Voltage: 5.251894736842107 V\n",
      "Current: 0.34297340425531914 A\n"
     ]
    }
   ],
   "source": [
    "# image size is 3*32*32, so the data size for transmission is 3*32*32*4=12288bytes≈12KB. Assume we transmit every 1s, the data transmission rate should be 12kbps\n",
    "df = pd.read_csv(os.path.join(data_dir, \"VAs_trans_meter\", f\"transmission_12kbps.csv\"))\n",
    "current = df['Current (A)'].values\n",
    "voltage = df['Voltage (V)'].values\n",
    "current_filtered = remove_outliers_percentile_data(current)\n",
    "voltage_filtered = remove_outliers_percentile_data(voltage)\n",
    "current_mean = sum(current_filtered)/len(current_filtered)\n",
    "voltage_mean = sum(voltage_filtered)/len(voltage_filtered)\n",
    "print(\"Data transmission power consumption:\")\n",
    "print(f\"Voltage: {voltage_mean} V\")\n",
    "print(f\"Current: {current_mean} A\")"
   ]
  },
  {
   "cell_type": "markdown",
   "metadata": {},
   "source": [
    "## DQL"
   ]
  },
  {
   "cell_type": "code",
   "execution_count": 27,
   "metadata": {},
   "outputs": [
    {
     "name": "stdout",
     "output_type": "stream",
     "text": [
      "DQL power consumption:\n",
      "Voltage: 5.23165853658537 V\n",
      "Current: 0.4587773584905662 A\n"
     ]
    }
   ],
   "source": [
    "## DQL is run every 0.1 second\n",
    "df = pd.read_csv(os.path.join(data_dir, \"dql\", f\"power.csv\"))\n",
    "current = df['Current (A)'].values\n",
    "voltage = df['Voltage (V)'].values\n",
    "current_filtered = remove_outliers_percentile_data(current)\n",
    "voltage_filtered = remove_outliers_percentile_data(voltage)\n",
    "current_mean = sum(current_filtered)/len(current_filtered)\n",
    "voltage_mean = sum(voltage_filtered)/len(voltage_filtered)\n",
    "print(\"DQL power consumption:\")\n",
    "print(f\"Voltage: {voltage_mean} V\")\n",
    "print(f\"Current: {current_mean} A\")"
   ]
  }
 ],
 "metadata": {
  "kernelspec": {
   "display_name": "Python [conda env:.conda-pytorch] *",
   "language": "python",
   "name": "conda-env-.conda-pytorch-py"
  },
  "language_info": {
   "codemirror_mode": {
    "name": "ipython",
    "version": 3
   },
   "file_extension": ".py",
   "mimetype": "text/x-python",
   "name": "python",
   "nbconvert_exporter": "python",
   "pygments_lexer": "ipython3",
   "version": "3.8.19"
  }
 },
 "nbformat": 4,
 "nbformat_minor": 4
}
