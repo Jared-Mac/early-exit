{
 "cells": [
  {
   "cell_type": "code",
   "execution_count": 1,
   "metadata": {},
   "outputs": [],
   "source": [
    "import torch\n",
    "import torch.nn as nn\n",
    "import torch.nn.functional as F\n",
    "from early_exit_resnet import *\n"
   ]
  },
  {
   "cell_type": "code",
   "execution_count": 4,
   "metadata": {},
   "outputs": [],
   "source": [
    "head_net_part1 = HeadNetworkPart1(block=Bottleneck, in_planes=64, num_blocks=[3], num_classes=10)\n",
    "head_net_part2 = HeadNetworkPart2(Bottleneck, 256, [4], num_classes=10)\n",
    "head_net_part3 = HeadNetworkPart3(block=Bottleneck, in_planes=512, num_blocks=[6], num_classes=10)\n",
    "tail_net = TailNetwork(block=Bottleneck, in_planes=1024, num_blocks=[3, 4, 6, 3], num_classes=10)\n"
   ]
  },
  {
   "cell_type": "code",
   "execution_count": 2,
   "metadata": {},
   "outputs": [],
   "source": [
    "combined_state_dict = torch.load('lightning_logs/version_15/checkpoints/epoch=3-step=149660.ckpt')\n"
   ]
  },
  {
   "cell_type": "code",
   "execution_count": 7,
   "metadata": {},
   "outputs": [],
   "source": [
    "\n",
    "head1_state_dict = {}\n",
    "head2_state_dict = {}\n",
    "head3_state_dict = {}\n",
    "tail_state_dict = {}\n",
    "\n",
    "\n",
    "for key, value in combined_state_dict['state_dict'].items():\n",
    "    if key.startswith('head1'):\n",
    "        head1_state_dict[key.removeprefix('head1.')] = value\n",
    "    elif key.startswith('head2'):\n",
    "        head2_state_dict[key.removeprefix('head2.')] = value\n",
    "    elif key.startswith('head3'):\n",
    "        head3_state_dict[key.removeprefix('head3.')] = value\n",
    "    else:\n",
    "        tail_state_dict[key.removeprefix('tail.')] = value\n"
   ]
  },
  {
   "cell_type": "code",
   "execution_count": 9,
   "metadata": {},
   "outputs": [],
   "source": [
    "torch.save(head1_state_dict,\"models/head1_resnet50.pth\")\n",
    "torch.save(head2_state_dict,\"models/head2_resnet50.pth\")\n",
    "torch.save(head3_state_dict,\"models/head3_resnet50.pth\")\n",
    "torch.save(tail_state_dict,\"models/tail_resnet50.pth\")"
   ]
  },
  {
   "cell_type": "code",
   "execution_count": 10,
   "metadata": {},
   "outputs": [
    {
     "data": {
      "text/plain": [
       "<All keys matched successfully>"
      ]
     },
     "execution_count": 10,
     "metadata": {},
     "output_type": "execute_result"
    }
   ],
   "source": [
    "head_net_part1.load_state_dict(torch.load(\"models/head1_resnet50.pth\"))\n",
    "head_net_part2.load_state_dict(torch.load(\"models/head2_resnet50.pth\"))\n",
    "head_net_part3.load_state_dict(torch.load(\"models/head3_resnet50.pth\"))\n",
    "tail_net.load_state_dict(torch.load(\"models/tail_resnet50.pth\"))\n"
   ]
  },
  {
   "cell_type": "code",
   "execution_count": 12,
   "metadata": {},
   "outputs": [],
   "source": [
    "def evaluate_model(model, test_loader, device):\n",
    "    model.eval()  # Set model to evaluation mode\n",
    "    total_samples = len(test_loader.dataset)\n",
    "    correct_predictions = [0, 0, 0, 0]  # Assuming three exits\n",
    "\n",
    "    with torch.no_grad():  # No need to compute gradients\n",
    "        for inputs, labels in test_loader:\n",
    "            inputs = inputs.to(device)\n",
    "            labels = labels.to(device)\n",
    "\n",
    "            exits = model(inputs)  # Forward pass\n",
    "            softmax = torch.nn.Softmax(dim=1)\n",
    "            \n",
    "            for i, exit in enumerate(exits):\n",
    "                predictions = softmax(exit).argmax(dim=1)\n",
    "                correct_predictions[i] += (predictions == labels).type(torch.float).sum().item()\n",
    "\n",
    "    accuracies = [correct / total_samples for correct in correct_predictions]\n",
    "    return accuracies"
   ]
  },
  {
   "cell_type": "code",
   "execution_count": 3,
   "metadata": {},
   "outputs": [
    {
     "data": {
      "text/plain": [
       "<All keys matched successfully>"
      ]
     },
     "execution_count": 3,
     "metadata": {},
     "output_type": "execute_result"
    }
   ],
   "source": [
    "model = EarlyExitResNet50(num_classes=3)\n",
    "model.load_state_dict(combined_state_dict['state_dict'])\n",
    "\n"
   ]
  },
  {
   "cell_type": "code",
   "execution_count": null,
   "metadata": {},
   "outputs": [],
   "source": [
    "from dataset import Flame2DataModule\n",
    "import torchvision.transforms as transforms\n",
    "\n",
    "transform = transforms.Compose([\n",
    "    transforms.Resize((224, 224)),\n",
    "    transforms.ToTensor(),\n",
    "])\n",
    "\n",
    "data_module = Flame2DataModule(image_dir=\"../Flame2/254_RGB\", batch_size=32,transform=transform)\n",
    "data_module.setup()\n",
    "print(data_module.evaluate_model(model,\"cuda\"))"
   ]
  },
  {
   "cell_type": "code",
   "execution_count": null,
   "metadata": {},
   "outputs": [],
   "source": []
  }
 ],
 "metadata": {
  "kernelspec": {
   "display_name": "Python 3 (ipykernel)",
   "language": "python",
   "name": "python3"
  },
  "language_info": {
   "codemirror_mode": {
    "name": "ipython",
    "version": 3
   },
   "file_extension": ".py",
   "mimetype": "text/x-python",
   "name": "python",
   "nbconvert_exporter": "python",
   "pygments_lexer": "ipython3",
   "version": "3.11.9"
  }
 },
 "nbformat": 4,
 "nbformat_minor": 4
}
